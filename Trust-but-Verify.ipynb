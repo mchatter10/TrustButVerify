{
 "cells": [
  {
   "cell_type": "markdown",
   "metadata": {},
   "source": [
   ]
  },
  {
   "cell_type": "markdown",
   "metadata": {
    "id": "ha-G-xe_-2-x"
   },
   "source": [
    "# 1.0 Set Up Environment"
   ]
  },
  {
   "cell_type": "markdown",
   "metadata": {},
   "source": [
    "## Imports"
   ]
  },
  {
   "cell_type": "code",
   "execution_count": 1,
   "metadata": {
    "id": "HRezJj6vdwKe"
   },
   "outputs": [],
   "source": [
    "import google.generativeai as genai\n",
    "import os\n",
    "import PyPDF2\n",
    "from dotenv import load_dotenv\n",
    "import tkinter as tk\n",
    "from tkinter import messagebox\n",
    "import pandas as pd\n",
    "\n",
    "import csv\n",
    "from datetime import datetime"
   ]
  },
  {
   "cell_type": "code",
   "execution_count": 2,
   "metadata": {},
   "outputs": [],
   "source": [
    "# Load API key from .env file\n",
    "load_dotenv()\n",
    "GOOGLE_API_KEY = os.getenv('GOOGLE_API_KEY')\n",
    "\n",
    "# Configure generative AI model\n",
    "genai.configure(api_key=GOOGLE_API_KEY)\n",
    "model = genai.GenerativeModel('gemini-1.5-flash')"
   ]
  },
  {
   "cell_type": "markdown",
   "metadata": {
    "id": "87mNAuL1Ipd2"
   },
   "source": [
    "## 1.1. Define Functions"
   ]
  },
  {
   "cell_type": "markdown",
   "metadata": {
    "id": "60r-C-hDL43e"
   },
   "source": [
    "### 1.1.1 Function to extract PDF and text files"
   ]
  },
  {
   "cell_type": "code",
   "execution_count": 3,
   "metadata": {
    "id": "UYs98zKV1q-D"
   },
   "outputs": [],
   "source": [
    "def get_ref_pdf(ref_doc):\n",
    "  with open(ref_doc, 'rb') as pdf_file:\n",
    "    reader = PyPDF2.PdfReader(pdf_file)\n",
    "    ref_text = \"\"\n",
    "    for page in reader.pages:\n",
    "      ref_text += page.extract_text()\n",
    "  return ref_text\n",
    "\n",
    "def get_ref_txt(ref_doc):\n",
    "    with open(ref_doc, \"r\") as file:\n",
    "      return file.read()"
   ]
  },
  {
   "cell_type": "markdown",
   "metadata": {
    "id": "t963slQ8L9XA"
   },
   "source": [
    "### 1.1.2 Functions to pass queries to LLM\n",
    "ask jeeves:\n",
    "send prompt to LLM\n",
    "\n",
    "security check:\n",
    "Select security features\n",
    "\n",
    "Gate check:\n",
    "Search DUT for compliance of security features\n",
    "Recommend the implementation if not present.\n",
    "Save this assessment\n",
    "\n",
    "pack suitcase:\n",
    "Iterate through all of the signals and create the test cases categories requested by the user.\n",
    "Save the test cases"
   ]
  },
  {
   "cell_type": "code",
   "execution_count": null,
   "metadata": {
    "id": "0BPfDzT-MDmL"
   },
   "outputs": [],
   "source": [
    "def ask_jeeves(prompt):\n",
    "  response = model.generate_content(prompt)\n",
    "  return response.text\n",
    "\n",
    "\n",
    "def gate_check(des_doc):\n",
    "  prompt_gate = \"Your response must be bounded from [DOC1]\\n\\\n",
    "  List all input and output signals of the design separated by commas \\n\"\n",
    "  query_gate = prompt_gate + \"[DOC1]: \\n\" + des_doc\n",
    "  sig_names = ask_jeeves(query_gate)\n",
    "  return sig_names.split(\",\")\n",
    "\n",
    "def relationships(des_doc):\n",
    "  prompt_gate = \"Your response must be bounded from [DOC1] and any recollection of dependency graphs from computer architecture. \\n\\\n",
    "  Create a table to show the depedency between signals.  \\n\"\n",
    "  query_gate = prompt_gate + \"[DOC1] =design specifications: \\n\" + des_doc\n",
    "  response = ask_jeeves(query_gate)\n",
    "  print(response)\n",
    "\n",
    "def pack_suitcase(des_ref, sig_dep, sig_name):  \n",
    "  date = str(datetime.now().date())\n",
    "  file_title = f\"HTAX_Outputs/{sig_name}_Test_Cases_{date}.txt\"\n",
    "  \n",
    "  prompt_test_case = f\"Your response must be bounded from [DOC1], [DOC2] and knowledge of defining test cases for Hardware Verificaion. \\\n",
    "  Define test cases for the {sig_name} signal to demonstrate timing and signal dependencies of the signal. \\\n",
    "  The response must be a table that includes: Test case ID, test case description, stimulus description, and description of the expected behavior. \\\n",
    "  [DOC2] = signal depency: {sig_dep} \\n\\\n",
    "  [DOC1] = design specificaitons: {des_ref}\"\n",
    "  test_cases  = ask_jeeves(prompt_test_case)\n",
    "  with open(file_title, \"a\") as file:\n",
    "    file.write(str(test_cases))\n",
    "  print(test_cases)\n",
    "\n",
    "def assert_asiento(test_case_name, test_case, des_ref, assert_if):\n",
    "  prompt_sva = (\n",
    "  f\"Your response must be bounded from [DOC1], [DOC2], \"\n",
    "  f\"and prior knowledge of SystemVerilog Assertions for Hardware Verification. \"\n",
    "  f\"Generate additional assertions for [DOC2] to check the expected behavior for all {test_case_name} test cases using the signals already delcared in [DOC2]\"\n",
    "  f\"Only generate the assertion, do not recreate the file\"\n",
    "  f\"Each assertion must map back to a test case\"\n",
    "  f\"{test_case_name}: {test_case} \\n\"\n",
    "  f\"[DOC1] = Design Specification\\n{des_ref}\\n\"\n",
    "  f\"[DOC2] = interface file\\n{assert_if}\\n\"\n",
    "  )\n",
    "  date = str(datetime.now().date())\n",
    "  file_title = f\"HTAX_Outputs/{test_case_name}_Assertions_{date}.txt\"\n",
    "  gen_assert=(ask_jeeves(prompt_sva))\n",
    "  with open(file_title, \"a\") as file:\n",
    "    file.write(str(gen_assert))\n",
    "  print(gen_assert)\n",
    "\n",
    "  def security_check(selected_items, des_ref, sec_ref):\n",
    "    # Generate timestamp\n",
    "    date = str(datetime.now())\n",
    "    file_title = f\"AES/Security Assessment{date}.txt\"\n",
    "    prompt_sec = f\"\\nYour response must be bounded from [DOC0] and [DOC1] \\n\\\n",
    "    Does the design defined in [DOC1] have any of the following features defined in [DOC0]:{selected_items}? \\n\\\n",
    "    The response should be in table format to map the design feature to the security feature\"\n",
    "\n",
    "    query =  \"[DOC0]= FPGA Security \\n\" + sec_ref + \"\\n[DOC1]=AES Design Specification \\n\" + des_ref + prompt_sec\n",
    "    response = f'{selected_items}' + '\\n' + ask_jeeves(query)\n",
    "\n",
    "    # Write to file\n",
    "    with open(file_title, \"w\") as file:\n",
    "        file.write(response)\n",
    "    print(response)"
   ]
  },
  {
   "cell_type": "markdown",
   "metadata": {},
   "source": [
    "### 1.1.3 Create Window to pass user defined inputs to LLM"
   ]
  },
  {
   "cell_type": "code",
   "execution_count": 5,
   "metadata": {},
   "outputs": [],
   "source": [
    "def select_sec_feat(std = None):\n",
    "    selected_items = []\n",
    "    _std = std\n",
    "\n",
    "    def close():\n",
    "        root.quit()\n",
    "        #root.destroy()\n",
    "\n",
    "    def get_sec_feat(std):\n",
    "        if std is None or 'nsa':\n",
    "            sec_feat = pd.read_csv(\"/Users/mchatter/Documents/DEng/ITDE/Python/Project/Reference Documents/NSA Features2.csv\")\n",
    "        elif std == 'cwe':\n",
    "            sec_feat = pd.read_csv(\"/Users/mchatter/Documents/DEng/ITDE/Python/Project/Reference Documents/NSA Features2.csv\")\n",
    "        #print(sec_feat.head())\n",
    "        else:\n",
    "            print('incorrect request')\n",
    "        sec_feat = sec_feat.iloc[:,1].unique()\n",
    "        return sec_feat\n",
    "\n",
    "    def generate_list():\n",
    "        #selected_items = []\n",
    "        nonlocal selected_items\n",
    "        for item, var in checkbutton_vars.items():\n",
    "            if var.get() == 1:\n",
    "                selected_items.append(item)\n",
    "        root.quit() \n",
    "                \n",
    "    root = tk.Tk()\n",
    "    root.title(\"FPGA Security Guidance\")\n",
    "\n",
    "    label = tk.Label(root, text=\"Select the applicable secuirty features to check for in the FPGA-based design. \", bg=\"black\")\n",
    "    label.pack(pady=5)\n",
    "\n",
    "    items = get_sec_feat(_std)\n",
    "    checkbutton_vars = {}\n",
    "\n",
    "    for item in items:\n",
    "        var = tk.IntVar()\n",
    "        checkbutton = tk.Checkbutton(root, text=item, variable=var)\n",
    "        checkbutton.pack()\n",
    "        checkbutton_vars[item] = var\n",
    "\n",
    "    generate_button = tk.Button(root, text=\"Check for Features\", command=generate_list)\n",
    "    generate_button.pack()\n",
    "\n",
    "    quit_button = tk.Button(root, text=\"Quit\", command=close)\n",
    "    quit_button.pack()\n",
    "\n",
    "    root.mainloop()\n",
    "\n",
    "    print(\"Selected items are: \", selected_items)\n",
    "\n",
    "    return selected_items"
   ]
  },
  {
   "cell_type": "code",
   "execution_count": 6,
   "metadata": {},
   "outputs": [],
   "source": [
    "def create_input_window(user_prompt):\n",
    "    def save_and_close():\n",
    "        nonlocal saved_input\n",
    "        saved_input = text_box.get(\"1.0\", tk.END).strip()\n",
    "        if not saved_input:\n",
    "            messagebox.showwarning(\"Warning\", \"Input cannot be empty!\")\n",
    "        else:\n",
    "            root.destroy()\n",
    "\n",
    "    # Create the main window\n",
    "    root = tk.Tk()\n",
    "    root.title(\"Input Window\")\n",
    "    root.geometry(\"400x200\")\n",
    "    root.configure(bg=\"lightgray\")  # Change window background color\n",
    "\n",
    "    label = tk.Label(root, text=user_prompt, bg=\"black\")\n",
    "    label.pack(pady=5)\n",
    "\n",
    "    # Create the Textbox with a white background\n",
    "    text_box = tk.Text(root, height=5, width=30, fg=\"black\", bg=\"white\")\n",
    "    text_box.pack(pady=10)\n",
    "\n",
    "    # Create the Save and Close button\n",
    "    done_button = tk.Button(root, text=\"Done\", command=save_and_close)\n",
    "    done_button.pack(pady=5)\n",
    "\n",
    "    # Run the application\n",
    "    saved_input = \"\"\n",
    "    root.mainloop()\n",
    "    \n",
    "    return saved_input\n"
   ]
  },
  {
   "cell_type": "markdown",
   "metadata": {
    "id": "XjYoKUloIjGc"
   },
   "source": [
    "## 1.2. Load Files"
   ]
  },
  {
   "cell_type": "code",
   "execution_count": 7,
   "metadata": {
    "id": "-8ODmRaS1jsq"
   },
   "outputs": [],
   "source": [
    "des_if = \"HTAX/htax_tx_interface.txt\"\n",
    "htax_pdf = \"HTAX/Spec.pdf\""
   ]
  },
  {
   "cell_type": "markdown",
   "metadata": {
    "id": "dTbZSYGPMc9o"
   },
   "source": [
    "### 1.2.1 Convert files to readable text."
   ]
  },
  {
   "cell_type": "code",
   "execution_count": 8,
   "metadata": {
    "id": "Obmk6832-n9B"
   },
   "outputs": [],
   "source": [
    "assert_if = get_ref_txt(des_if)\n",
    "#uncomment design\n",
    "des_ref = get_ref_pdf(htax_pdf)\n",
    "\n",
    "#des_ref = get_ref_txt(ip_md % ip_block[2])"
   ]
  },
  {
   "cell_type": "markdown",
   "metadata": {},
   "source": [
    "# 2.0 Security Checkpoint"
   ]
  },
  {
   "cell_type": "markdown",
   "metadata": {},
   "source": [
    "Check for NSA specific security features in design"
   ]
  },
  {
   "cell_type": "code",
   "execution_count": null,
   "metadata": {},
   "outputs": [
    {
     "name": "stdout",
     "output_type": "stream",
     "text": [
      "Selected items are:  ['Encyption Algorithms', 'Device Secret Key Storage', 'Key Rolling', 'Side Channel Attack Protection', 'Secure Boot']\n"
     ]
    }
   ],
   "source": [
    "selected_items = select_sec_feat()"
   ]
  },
  {
   "cell_type": "code",
   "execution_count": null,
   "metadata": {},
   "outputs": [],
   "source": [
    "selected_items = ['Tamper Detection','Secure Memory','Configuration File Encryption']\n",
    "selected_items = ['Key Rolling, Side Channel Attack Protection, Secure Boot, Encryption Algorithms, Device Secret Key']"
   ]
  },
  {
   "cell_type": "code",
   "execution_count": null,
   "metadata": {},
   "outputs": [
    {
     "name": "stdout",
     "output_type": "stream",
     "text": [
      "['Encyption Algorithms', 'Device Secret Key Storage', 'Key Rolling', 'Side Channel Attack Protection', 'Secure Boot']\n",
      "This document provides detailed specifications and design considerations for an implementation of a masked AES (Advanced Encryption Standard) cipher core. The mask is applied to protect against side-channel attacks, including power analysis and timing attacks.\n",
      "\n",
      "**Masking Scheme**\n",
      "\n",
      "The masking scheme employed in this implementation is 1st-order masking, which means that both the cipher and key expand data paths use two shares. This provides protection against first-order side-channel attacks, such as power analysis and timing attacks.\n",
      "\n",
      "**Data Path Architecture**\n",
      "\n",
      "The AES unit uses a parallel data path to increase noise in the system and make it more resistant to higher-order side-channel attacks. The 128-bit parallel data path uses up to 20 S-Boxes (16 inside SubBytes, 4 inside KeyExpand) that are evaluated in parallel.\n",
      "\n",
      "**Control Path Protection**\n",
      "\n",
      "To protect against fault injection attacks on the control path, the AES unit implements several countermeasures:\n",
      "\n",
      "*   **Shadowed Control Register**: The main control register is implemented as a shadow register. Software must perform two subsequent write operations to update the register.\n",
      "*   **Sparse Encodings of FSM States**: All FSMs inside the AES unit use sparse state encodings.\n",
      "*   **Sparse Encodings for Mux Selector Signals**: All main muxes use sparsely encoded selector signals.\n",
      "*   **Sparse Encodings for Handshake and Other Important Control Signals**:\n",
      "    *   Sparse encodings are used for handshake signals to reduce the Hamming weight of the signal.\n",
      "    *   The number of logic rails can be scaled up by means of relatively easy RTL modifications.\n",
      "\n",
      "**Fault Injection Countermeasures**\n",
      "\n",
      "If any countermeasure detects a fault, a fatal alert is triggered, the internal FSMs go into a terminal error state, and the AES unit does not release further data. A system-supplied reset is required before the AES unit can become operational again.\n",
      "\n",
      "The implementation also includes measures to protect against key leakage during reset:\n",
      "\n",
      "*   **Clearing Registers with Pseudo-Random Data**: All major key and data registers are cleared with pseudo-random data upon reset.\n",
      "\n",
      "**Countermeasure Summary**\n",
      "\n",
      "| Countermeasure | Description |\n",
      "| :------------ | :---------- |\n",
      "| 1st-order Masking | Protects against first-order side-channel attacks (power analysis and timing attacks) |\n",
      "| Parallel Data Path | Increases noise in the system, making it more resistant to higher-order side-channel attacks |\n",
      "| Sparse Encodings of FSM States | Reduces Hamming weight of FSM states |\n",
      "| Sparse Encodings for Mux Selector Signals | Reduces Hamming weight of mux selector signals |\n",
      "| Shadowed Control Register | Protects against fault injection attacks on control path |\n",
      "| Pseudo-Random Data Reset | Clears registers with pseudo-random data during reset |\n",
      "\n",
      "Overall, this implementation provides a robust and secure design for the masked AES cipher core. The use of 1st-order masking, parallel data paths, sparse encodings, shadowed control registers, and pseudo-random data reset measures make it resistant to various side-channel attacks and fault injection attacks.\n",
      "\n",
      "**Additional Considerations**\n",
      "\n",
      "*   **Software Support**: Implementations should include software support for configuration and debugging.\n",
      "*   **Timing and Power Analysis Resistance**: The design should provide adequate timing and power analysis resistance against side-channel attacks.\n",
      "*   **Fault Injection Tests**: Include fault injection tests to ensure the robustness of the implementation.\n",
      "\n",
      "**Next Steps**\n",
      "\n",
      "1.  **RTL Code Generation**: Generate the RTL code based on the provided specifications.\n",
      "2.  **Implementation Verification**: Verify the implementation for correctness, performance, and security.\n",
      "3.  **Testing and Validation**: Perform thorough testing and validation of the implementation to ensure it meets the required standards.\n"
     ]
    }
   ],
   "source": [
    "security_check(selected_items, des_ref, nsa_ref)"
   ]
  },
  {
   "cell_type": "code",
   "execution_count": null,
   "metadata": {},
   "outputs": [
    {
     "name": "stdout",
     "output_type": "stream",
     "text": [
      "['Encyption Algorithms', 'Device Secret Key Storage', 'Key Rolling', 'Side Channel Attack Protection', 'Secure Boot']\n",
      "This appears to be a technical document related to the Earlgrey chip, specifically its pin configuration and RTL implementation. Here's a summary of the main points:\n",
      "\n",
      "**Pin Configuration**\n",
      "\n",
      "* The document describes the pin configuration of the Earlgrey chip, including the type of each pad (e.g., BidirStd, BidirOd) and their connections.\n",
      "* There are open drain and virtual open drain pads, which support high-impedance states and protection circuits.\n",
      "\n",
      "**RTL Implementation Notes**\n",
      "\n",
      "* The top-level netlist for Earlgrey is a combination of hand-written SystemVerilog RTL with auto-generated sections.\n",
      "* A script generates the interconnecting crossbar (via TLUL) and instantiations at the top level.\n",
      "* The document notes that there is subtlety in the notion of hierarchy within the top-level module.\n",
      "\n",
      "**FPGA Platform**\n",
      "\n",
      "* In the FPGA platform, the logic for JTAG and SPI device are multiplexed within `chip_earlgrey_cw310`.\n",
      "* This is done for ease of programming by the external host.\n",
      "\n",
      "**Chip Targets**\n",
      "\n",
      "* There are chip-level instantiation targets directed towards a particular use case (e.g., FPGA, ASIC).\n",
      "* These targets will include the actual pads as needed by the target platform.\n",
      "* The hierarchy between the top-level module and chip targets needs to be synchronized.\n",
      "\n",
      "Overall, this document provides technical details about the Earlgrey chip's pin configuration and RTL implementation, as well as its integration with FPGA platforms and chip targets.\n"
     ]
    }
   ],
   "source": [
    "security_check(selected_items, top_ref, nsa_ref)"
   ]
  },
  {
   "cell_type": "markdown",
   "metadata": {
    "id": "zkADJyherxRO"
   },
   "source": [
    "# 3.0 Gate Check"
   ]
  },
  {
   "cell_type": "markdown",
   "metadata": {
    "id": "ty9FtvMHM-Qe"
   },
   "source": [
    "Extract signal names. Store for debugging"
   ]
  },
  {
   "cell_type": "code",
   "execution_count": 10,
   "metadata": {},
   "outputs": [],
   "source": [
    "sig_names = gate_check(des_ref)"
   ]
  },
  {
   "cell_type": "code",
   "execution_count": 11,
   "metadata": {
    "colab": {
     "base_uri": "https://localhost:8080/",
     "height": 54
    },
    "executionInfo": {
     "elapsed": 1398,
     "status": "ok",
     "timestamp": 1739735730163,
     "user": {
      "displayName": "Michelle Chatter",
      "userId": "01798943003251196288"
     },
     "user_tz": 420
    },
    "id": "dKM2bNXBsRUp",
    "outputId": "f289917d-5390-49cf-a595-f587b79da273"
   },
   "outputs": [],
   "source": [
    "with open(\"HTAX_Outputs/SigNames.csv\", \"a\", newline='') as file:\n",
    "    writer = csv.writer(file)\n",
    "    writer.writerow(sig_names)"
   ]
  },
  {
   "cell_type": "code",
   "execution_count": 12,
   "metadata": {},
   "outputs": [
    {
     "name": "stdout",
     "output_type": "stream",
     "text": [
      "['tx_outport_req[PORTS-1:0]', ' tx_vc_req[VC-1:0]', ' tx_data[W-1:0]', ' tx_sot[VC-1:0]', ' tx_eot', ' tx_release_gnt', ' tx_vc_gnt[VC-1:0]', ' rx_vc_req[VC-1:0]', ' rx_vc_gnt[VC-1:0]', ' rx_data[WIDTH-1:0]', ' rx_sot[VC-1:0]', ' rx_eot\\n']\n"
     ]
    }
   ],
   "source": [
    "print(sig_names)"
   ]
  },
  {
   "cell_type": "markdown",
   "metadata": {
    "id": "WPWCN5HmKYTN"
   },
   "source": [
    "# 4.0. Departure"
   ]
  },
  {
   "cell_type": "markdown",
   "metadata": {
    "id": "Al_0FULNKdCz"
   },
   "source": [
    "## 4.1 Suitcases and Test Cases"
   ]
  },
  {
   "cell_type": "markdown",
   "metadata": {
    "id": "_Sy5pOHAN3aW"
   },
   "source": [
    "Define test case categories to check for based on the design spec."
   ]
  },
  {
   "cell_type": "code",
   "execution_count": 13,
   "metadata": {},
   "outputs": [
    {
     "name": "stdout",
     "output_type": "stream",
     "text": [
      "Based solely on the provided [DOC1], a table showing signal dependencies in the HTAX is difficult to create comprehensively.  The document describes signals and their behavior but doesn't explicitly define a complete dependency graph in a tabular format. However, we can illustrate some key dependencies based on the text:\n",
      "\n",
      "| Signal              | Depends On                                                                     | Affects                                                                          | Notes                                                                                                                              |\n",
      "|----------------------|---------------------------------------------------------------------------------|----------------------------------------------------------------------------------|--------------------------------------------------------------------------------------------------------------------------------------|\n",
      "| `tx_outport_req`    | N/A (Initiator)                                                               | Internal HTAX arbitration; `tx_vc_gnt`                                          | One-hot encoded; must be asserted/deasserted with `tx_vc_req`.                                                                      |\n",
      "| `tx_vc_req`         | N/A (Initiator)                                                               | Internal HTAX arbitration; `tx_vc_gnt`                                          | Can request multiple virtual channels simultaneously; must be asserted/deasserted with `tx_outport_req`.                               |\n",
      "| `tx_vc_gnt`         | `tx_outport_req`, `tx_vc_req` (and internal HTAX arbitration)                    | FU-TX (triggers transaction start via `tx_sot`);  causes deassertion of `tx_outport_req` and `tx_vc_req` (unless another request follows)|Asserted for a single clock cycle.                                                                                                   |\n",
      "| `tx_sot`            | `tx_vc_gnt` (implicitly)                                                         | HTAX data transfer                                                              | One-hot encoded; indicates start of transaction on a specific virtual channel.                                                              |\n",
      "| `tx_data`           | `tx_sot`                                                                      | HTAX data transfer                                                              | Payload data.                                                                                                                          |\n",
      "| `tx_eot`            | Completion of data transfer                                                       | HTAX data transfer; release of outport via `tx_release_gnt`                       | Signals end of transaction.                                                                                                           |\n",
      "| `tx_release_gnt`    | `tx_eot` (implicitly)                                                           | Allows new `tx_outport_req` and `tx_vc_req` assertion for the next packet         | Enables overlapping of arbitration and data transfer.                                                                                       |\n",
      "| `rx_vc_req`         | N/A (Initiator)                                                               | Internal HTAX arbitration; `rx_vc_gnt`                                          | Indicates virtual channels requesting data.                                                                                             |\n",
      "| `rx_vc_gnt`         | `rx_vc_req` (and internal HTAX arbitration)                                    | FU-RX (triggers data reception via `rx_sot`)                                  | Can grant multiple virtual channels simultaneously. May be asserted even without corresponding `rx_vc_req`.                             |\n",
      "| `rx_sot`            | `rx_vc_gnt` (implicitly)                                                         | FU-RX data reception                                                             | One-hot encoded; signals start of a transaction on a specific virtual channel.                                                           |\n",
      "| `rx_data`           | `rx_sot` and HTAX data transfer                                                  | FU-RX                                                                          | Received data payload.                                                                                                                |\n",
      "| `rx_eot`            | Completion of data transfer                                                       | FU-RX                                                                          | Signals end of a transaction.                                                                                                          |\n",
      "\n",
      "\n",
      "This table is not exhaustive.  The document hints at further complex interactions and internal HTAX workings not fully detailed within the scope of the provided excerpt.  A complete dependency table would require a much more detailed architectural specification.\n",
      "\n"
     ]
    }
   ],
   "source": [
    "relationships(des_ref)"
   ]
  },
  {
   "cell_type": "code",
   "execution_count": null,
   "metadata": {},
   "outputs": [
    {
     "name": "stdout",
     "output_type": "stream",
     "text": [
      "Based on the provided documentation ([DOC1], [DOC2]),  defining comprehensive test cases for `tx_eot` requires more detail on the HTAX's operational characteristics and the surrounding environment (e.g.,  the behavior of `tx_release_gnt`, the interaction with other signals like `tx_data`, and the handling of various data packet sizes and transaction lengths). However, we can outline some fundamental test cases focusing on timing and signal dependencies:\n",
      "\n",
      "\n",
      "| Test Case ID | Test Case Description | Stimulus Description | Expected Behavior |\n",
      "|---|---|---|---|\n",
      "| TC_TX_EOT_001 | Verify `tx_eot` assertion with a single data packet transaction. |  Assert `tx_vc_req` and `tx_outport_req` for a single virtual channel. After receiving `tx_vc_gnt`, assert `tx_sot` and a single data packet on `tx_data`.  | `tx_eot` is asserted for one clock cycle simultaneously with the last data packet.  `tx_release_gnt` is asserted one clock cycle before `tx_eot`. |\n",
      "| TC_TX_EOT_002 | Verify `tx_eot` assertion with a multi-packet transaction. | Assert `tx_vc_req` and `tx_outport_req`. After receiving `tx_vc_gnt`, assert `tx_sot` and multiple data packets on `tx_data`.  | `tx_eot` is asserted for one clock cycle simultaneously with the last data packet. `tx_release_gnt` is asserted one clock cycle before `tx_eot`. |\n",
      "| TC_TX_EOT_003 | Verify `tx_eot` timing with respect to `tx_release_gnt`. |  Same as TC_TX_EOT_002, but specifically observe the timing relationship between `tx_eot` and `tx_release_gnt`. | `tx_release_gnt` is asserted one clock cycle before `tx_eot`.  |\n",
      "| TC_TX_EOT_004 | Verify `tx_eot` assertion after different data packet lengths. |  Repeat TC_TX_EOT_002 with varying numbers of data packets. | `tx_eot` is asserted correctly regardless of the number of data packets. |\n",
      "| TC_TX_EOT_005 | Verify `tx_eot` behavior with back-to-back transactions (if supported). | After completing one transaction (asserting `tx_eot`), immediately initiate a new transaction. | The second transaction begins after the assertion of `tx_release_gnt` from the previous transaction; `tx_eot` is correctly asserted for each transaction. |\n",
      "| TC_TX_EOT_006 | Verify `tx_eot` assertion with minimal latency feature (if supported). | Assert `tx_vc_req` for a single virtual channel and `tx_sot` simultaneously with the request.  Send a single data packet. | `tx_eot` is asserted correctly with minimal latency. |\n",
      "\n",
      "\n",
      "**Note:** These are basic test cases.  A comprehensive test plan would need to account for error conditions (e.g.,  failure to receive `tx_vc_gnt`), boundary conditions (maximum number of data packets), and potentially edge cases related to the interaction with other signals and features (burst mode, etc.) not fully explained in the provided documents.  The exact timing relationships and expected behavior will depend heavily on the specifics of the HTAX design not fully detailed in [DOC1].  More detailed specifications are needed for a more thorough test plan.\n",
      "\n"
     ]
    }
   ],
   "source": [
    "sig_name = \"tx_eot\"\n",
    "sig_dep = f\"Signal: {sig_name} | Depends on: | Description: SEnd of transaction signal. \"\n",
    "\n",
    "test_case = pack_suitcase(des_ref, sig_dep, sig_name)\n",
    "print(test_case)"
   ]
  },
  {
   "cell_type": "code",
   "execution_count": null,
   "metadata": {},
   "outputs": [],
   "source": [
    "test_case_name = \"TC_TX_EOT\"\n",
    "#test_case = \n",
    "'''\n",
    "| Test Case ID | Test Case Description | Stimulus Description | Expected Behavior |\n",
    "|---|---|---|---|\n",
    "| TC_TX_EOT_01 | Verify `tx_eot` assertion with a single data packet transaction. |  A single data packet is transmitted.  `tx_vc_req`, `tx_outport_req`, and `tx_sot` are asserted for a single virtual channel.  `tx_data` carries the single packet. | `tx_eot` is asserted for one clock cycle simultaneously with the last data packet (`tx_data`).  `tx_release_gnt` is asserted one clock cycle before `tx_eot`. |\n",
    "| TC_TX_EOT_02 | Verify `tx_eot` assertion with a multi-packet transaction. | Multiple data packets are transmitted on a single virtual channel. `tx_vc_req`, `tx_outport_req`, and `tx_sot` are asserted. `tx_data` carries multiple packets.  | `tx_eot` is asserted for one clock cycle simultaneously with the last data packet (`tx_data`). `tx_release_gnt` is asserted one clock cycle before `tx_eot`. |\n",
    "| TC_TX_EOT_03 | Verify `tx_eot` assertion with back-to-back transactions. | Two consecutive transactions are transmitted. The second transaction's `tx_vc_req` and `tx_outport_req` are asserted concurrently with the first transaction's `tx_release_gnt`. | `tx_eot` is asserted for one clock cycle for each transaction simultaneously with the last data packet of each transaction.  `tx_release_gnt` is asserted one clock cycle before each `tx_eot`.|\n",
    "| TC_TX_EOT_04 | Verify `tx_eot` assertion with Minimal Latency Feature (MLF). | A single data packet is transmitted using the MLF.  `tx_sot` is asserted concurrently with `tx_vc_req` and `tx_outport_req`. Only one virtual channel is requested. | `tx_eot` is asserted for one clock cycle simultaneously with the last data packet (`tx_data`). `tx_release_gnt` is asserted one clock cycle before `tx_eot`.  |\n",
    "| TC_TX_EOT_05 | Verify `tx_eot` assertion timing. | Measure the delay between the assertion of the last data packet and the assertion of `tx_eot`. | The delay should be minimal, ideally one clock cycle (as per the specification). |\n",
    "| TC_TX_EOT_06 | Verify `tx_eot` deassertion.  | A transaction is completed. | `tx_eot` should deassert after one clock cycle. |\n",
    "| TC_TX_EOT_07 | Verify `tx_eot` and `tx_release_gnt` relationship. |  A transaction is completed. | `tx_release_gnt` is asserted one clock cycle before `tx_eot`. |\n",
    "\n",
    "'''"
   ]
  },
  {
   "cell_type": "code",
   "execution_count": 16,
   "metadata": {},
   "outputs": [
    {
     "name": "stdout",
     "output_type": "stream",
     "text": [
      "```systemverilog\n",
      "   // -----------------------------------------\n",
      "   // TC_TX_EOT_01: Single packet transaction\n",
      "   // -----------------------------------------\n",
      "   property single_packet_eot;\n",
      "      @(posedge clk) disable iff(!rst_n)\n",
      "      (tx_data) ##1 tx_eot;\n",
      "   endproperty\n",
      "   assert_tc_tx_eot_01 : assert property(single_packet_eot)\n",
      "   else $error(\"TC_TX_EOT_01 failed: tx_eot not asserted simultaneously with last data packet.\");\n",
      "\n",
      "\n",
      "   // ------------------------------------------\n",
      "   // TC_TX_EOT_02: Multi-packet transaction\n",
      "   // ------------------------------------------\n",
      "   property multi_packet_eot;\n",
      "      @(posedge clk) disable iff(!rst_n)\n",
      "      (tx_data) [->1] ##1 tx_eot; // Matches last tx_data in a sequence\n",
      "   endproperty\n",
      "   assert_tc_tx_eot_02 : assert property(multi_packet_eot)\n",
      "   else $error(\"TC_TX_EOT_02 failed: tx_eot not asserted simultaneously with last data packet.\");\n",
      "\n",
      "\n",
      "   // ----------------------------------------------\n",
      "   // TC_TX_EOT_03: Back-to-back transactions\n",
      "   // ----------------------------------------------\n",
      "   property back_to_back_eot;\n",
      "      @(posedge clk) disable iff(!rst_n)\n",
      "      (tx_release_gnt ##1 tx_sot) ##1 tx_eot; //simplified for multiple back-to-back\n",
      "   endproperty\n",
      "   assert_tc_tx_eot_03 : assert property(back_to_back_eot)\n",
      "   else $error(\"TC_TX_EOT_03 failed: tx_eot not asserted correctly for back-to-back transactions.\");\n",
      "\n",
      "\n",
      "   // --------------------------------------\n",
      "   // TC_TX_EOT_04: MLF transaction\n",
      "   // --------------------------------------\n",
      "   property mlf_eot;\n",
      "      @(posedge clk) disable iff(!rst_n)\n",
      "      (tx_sot && tx_outport_req && tx_vc_req) ##1 tx_eot;\n",
      "   endproperty\n",
      "   assert_tc_tx_eot_04 : assert property(mlf_eot)\n",
      "   else $error(\"TC_TX_EOT_04 failed: tx_eot not asserted correctly with MLF.\");\n",
      "\n",
      "\n",
      "   // ---------------------------------------\n",
      "   // TC_TX_EOT_05: tx_eot timing\n",
      "   // ---------------------------------------\n",
      "   property eot_timing;\n",
      "      @(posedge clk) disable iff(!rst_n)\n",
      "      (tx_data) ##[1:1] tx_eot; // Delay should be exactly 1 clock cycle.\n",
      "   endproperty\n",
      "   assert_tc_tx_eot_05 : assert property(eot_timing)\n",
      "   else $error(\"TC_TX_EOT_05 failed: tx_eot timing is incorrect.\");\n",
      "\n",
      "\n",
      "   // ----------------------------------------\n",
      "   // TC_TX_EOT_06: tx_eot deassertion\n",
      "   // ----------------------------------------\n",
      "   property eot_deassertion;\n",
      "      @(posedge clk) disable iff(!rst_n)\n",
      "      tx_eot ##1 !tx_eot;\n",
      "   endproperty\n",
      "   assert_tc_tx_eot_06 : assert property(eot_deassertion)\n",
      "   else $error(\"TC_TX_EOT_06 failed: tx_eot deassertion is incorrect.\");\n",
      "\n",
      "\n",
      "   // ----------------------------------------------\n",
      "   // TC_TX_EOT_07: tx_eot and tx_release_gnt\n",
      "   // ----------------------------------------------\n",
      "   property eot_release_gnt;\n",
      "      @(posedge clk) disable iff(!rst_n)\n",
      "      tx_release_gnt ##1 tx_eot;\n",
      "   endproperty\n",
      "   assert_tc_tx_eot_07 : assert property(eot_release_gnt)\n",
      "   else $error(\"TC_TX_EOT_07 failed: tx_release_gnt and tx_eot relationship is incorrect.\");\n",
      "```\n",
      "\n"
     ]
    }
   ],
   "source": [
    "assert_asiento(test_case_name, test_case, des_ref, assert_if)"
   ]
  }
 ],
 "metadata": {
  "colab": {
   "authorship_tag": "ABX9TyNRhkMVBq7uuwdsSHQttnc8",
   "mount_file_id": "1xWKO5RoeUcFLmqJRFnpzLzd4hRtpZ3G-",
   "provenance": [
    {
     "file_id": "1IeqiLjQNt0Zc3aC712pIm4HFx8-4eFXq",
     "timestamp": 1728855635034
    }
   ]
  },
  "kernelspec": {
   "display_name": "Python 3",
   "name": "python3"
  },
  "language_info": {
   "codemirror_mode": {
    "name": "ipython",
    "version": 3
   },
   "file_extension": ".py",
   "mimetype": "text/x-python",
   "name": "python",
   "nbconvert_exporter": "python",
   "pygments_lexer": "ipython3",
   "version": "3.13.2"
  }
 },
 "nbformat": 4,
 "nbformat_minor": 0
}
